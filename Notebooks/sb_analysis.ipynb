{
 "cells": [
  {
   "cell_type": "code",
   "execution_count": 107,
   "id": "38d4bb68",
   "metadata": {},
   "outputs": [],
   "source": [
    "# BASE ---------------------------------\n",
    "import numpy as np\n",
    "import pandas as pd\n",
    "from scipy import stats\n",
    "import math\n",
    "import requests\n",
    "from bs4 import BeautifulSoup, SoupStrainer\n",
    "from urllib import request\n",
    "import re\n",
    "\n",
    "# VISUALIZATIONS -----------------------\n",
    "import matplotlib.pyplot as plt\n",
    "import seaborn as sns\n",
    "\n",
    "# MODELS -------------------------------\n",
    "\n",
    "\n",
    "# STYLES & CONFIGURATIONS ---------------\n",
    "sns.set_theme(style='darkgrid')\n",
    "import warnings\n",
    "warnings.filterwarnings(\"ignore\")"
   ]
  },
  {
   "cell_type": "code",
   "execution_count": 325,
   "id": "384964b3",
   "metadata": {},
   "outputs": [],
   "source": [
    "URL = \"https://spongebob.fandom.com/wiki/List_of_transcripts\"\n",
    "\n",
    "page = requests.get(URL)\n",
    "\n",
    "soup = BeautifulSoup(page.content, \"html.parser\")"
   ]
  },
  {
   "cell_type": "code",
   "execution_count": 338,
   "id": "0f524656",
   "metadata": {},
   "outputs": [],
   "source": [
    "def remove_strings_after_specific_element(input_list, specific_string):\n",
    "    if specific_string in input_list:\n",
    "        index = input_list.index(specific_string)\n",
    "        del input_list[index + 1:]"
   ]
  },
  {
   "cell_type": "code",
   "execution_count": 189,
   "id": "6c4f2adc",
   "metadata": {},
   "outputs": [],
   "source": [
    "\n",
    "\n",
    "def get_urls(url=\"https://spongebob.fandom.com/wiki/List_of_transcripts\"):\n",
    "\n",
    "    page = requests.get(url)\n",
    "\n",
    "    soup = BeautifulSoup(page.content, \"html.parser\")\n",
    "    \n",
    "    links = []\n",
    "    for link in soup.findAll('a', attrs={'href': re.compile(\"\\/transcript\")}):\n",
    "        links.append(link.get('href'))\n",
    "    specific_string = '/wiki/Sandy,_Help_Us!/transcript'\n",
    "    remove_strings_after_specific_element(links, specific_string)\n",
    "    \n",
    "    link_list = [\"https://spongebob.fandom.com/\" + x for x in links]\n",
    "    \n",
    "    for link in link_list:\n",
    "    ep_names = [x[34:] for x in link_list]\n",
    "    \n",
    "    return link_list"
   ]
  },
  {
   "cell_type": "code",
   "execution_count": 132,
   "id": "1d67316b",
   "metadata": {},
   "outputs": [],
   "source": [
    "def get_transcript(url, begin_str, ending_str):\n",
    "    '''\n",
    "    Function to get only the transcript text from the given URL and return the final output as a string\n",
    "    '''\n",
    "    page = requests.get(url)\n",
    "    soup = BeautifulSoup(page.content, \"html.parser\")\n",
    "    soup_sp = \" \".join([a.get_text().strip() for a in soup])\n",
    "    soup_sn = soup_sp.replace('\\n', ' ')\n",
    "    soup_st = soup_sn.replace('\\t', '')\n",
    "    begin_str='[The episode '\n",
    "    ending_str= 'Categories'\n",
    "    res = soup_st.split(begin_str, 1)\n",
    "    res2 = ''.join(res[1])\n",
    "    end = res2.split(ending_str)[0]\n",
    "    return end"
   ]
  },
  {
   "cell_type": "code",
   "execution_count": 348,
   "id": "ba845e92",
   "metadata": {},
   "outputs": [],
   "source": [
    "# for link in link_list:\n",
    "#     ep_names = [x[34:] for x in link_list]"
   ]
  },
  {
   "cell_type": "code",
   "execution_count": null,
   "id": "1a26aa8e",
   "metadata": {},
   "outputs": [],
   "source": [
    "for link in link_list:\n",
    "    # the variable name is equal to ep_ + 'ep_names' corresponding to link_list element\n",
    "    "
   ]
  },
  {
   "cell_type": "code",
   "execution_count": 350,
   "id": "8e89b864",
   "metadata": {},
   "outputs": [],
   "source": [
    "# ep1a"
   ]
  },
  {
   "cell_type": "code",
   "execution_count": 128,
   "id": "607f13e1",
   "metadata": {},
   "outputs": [],
   "source": [
    "# get the transcript for episode 1a, \"Help Wanted\"\n",
    "ep1a = get_transcript(url = \"https://spongebob.fandom.com/wiki/Help_Wanted/transcript\",\n",
    "                     begin_str='[The episode ',\n",
    "                     ending_str='ending the first episode')\n",
    "\n",
    "# get the transcript for episode 1b, \"Reef Blower\"\n",
    "ep1b = get_transcript(url='https://spongebob.fandom.com/wiki/Reef_Blower/transcript', \n",
    "               begin_str='[The episode ', \n",
    "               ending_str='ending the episode')\n",
    "\n",
    "# transcript for episode 1c \"Tea at the Treedome\"\n",
    "ep1c = get_transcript(url=\"https://spongebob.fandom.com/wiki/Tea_at_the_Treedome/transcript\", begin_str=\"[The episode begins \",\n",
    "                     ending_str=\"[The episode ends \")"
   ]
  },
  {
   "cell_type": "code",
   "execution_count": 72,
   "id": "28f1bb48",
   "metadata": {},
   "outputs": [],
   "source": [
    "# Transcript for 2a - Bubblestand\n",
    "ep2a = get_transcript(url=\"https://spongebob.fandom.com/wiki/Bubblestand/transcript\",\n",
    "                     begin_str=\"[The episode starts\",\n",
    "                     ending_str=\"ending the episode]\")\n",
    "\n",
    "# transcript for 2b - Ripped pants\n",
    "ep2b = get_transcript(url=\"https://spongebob.fandom.com/wiki/Ripped_Pants/transcript\",\n",
    "                     begin_str=\"[The episode begins\",\n",
    "                     ending_str=\"ending the episode]\")"
   ]
  },
  {
   "cell_type": "code",
   "execution_count": 76,
   "id": "7a165377",
   "metadata": {},
   "outputs": [],
   "source": [
    "# transcript for 3a - Jellyfishing\n",
    "ep3a = get_transcript(url=\"https://spongebob.fandom.com/wiki/Jellyfishing/transcript\",\n",
    "                     begin_str=\"[The episode begins\",\n",
    "                     ending_str=\" [the episode ends]\")\n",
    "\n",
    "# transcript for 3b - Plankton!\n",
    "ep3b = get_transcript(url=\"https://spongebob.fandom.com/wiki/Plankton!/transcript\",\n",
    "                     begin_str=\"[The episode opens\",\n",
    "                     ending_str=\"[The episode ends.]\")"
   ]
  },
  {
   "cell_type": "code",
   "execution_count": null,
   "id": "e7fd3a07",
   "metadata": {},
   "outputs": [],
   "source": [
    "# transcript for 4a - Naughty Nautical Neighbors\n",
    "\n",
    "# transcript for 4b - Boating school"
   ]
  },
  {
   "cell_type": "code",
   "execution_count": 74,
   "id": "2dafead0",
   "metadata": {},
   "outputs": [],
   "source": [
    "# transcript for 5a - \n",
    "ep2b = get_transcript(url=\" \",\n",
    "                     begin_str=\"[The episode begins\",\n",
    "                     ending_str=\"ending the episode]\")\n",
    "\n",
    "# transcript for 5b - "
   ]
  },
  {
   "cell_type": "code",
   "execution_count": 70,
   "id": "3c1e354d",
   "metadata": {},
   "outputs": [],
   "source": [
    "# transcript for 6a - \n",
    "ep2b = get_transcript(url=\" \",\n",
    "                     begin_str=\"[The episode begins\",\n",
    "                     ending_str=\"ending the episode]\")\n",
    "\n",
    "# transcript for 6b - "
   ]
  },
  {
   "cell_type": "code",
   "execution_count": 60,
   "id": "7ff2c7e2",
   "metadata": {},
   "outputs": [],
   "source": [
    "\n",
    "    # ep_num is the number when the string equals ...\n",
    "    \n",
    "    # <td>\n",
    "    #     <center>\n",
    "    #      1a\n",
    "    #     </center>\n",
    "    # </td>\n",
    "    \n",
    "    # ep_name is the part of the link href=\"\"/wiki/{name}\" ... \n",
    "#     <td style=\"text-align:left\">\n",
    "#         <a href=\"/wiki/Help_Wanted\" title=\"Help Wanted\">\n",
    "#                Help Wanted\n",
    "#         </a>\n",
    "#     </td>\n",
    "#     # Then, in the snippet\n",
    "#         <td>\n",
    "#               <center>\n",
    "#                <a href=\"/wiki/Help_Wanted/transcript\" title=\"Help Wanted/transcript\">\n",
    "#                 View transcript\n",
    "#                </a>\n",
    "#               </center>\n",
    "#         </td>\n",
    "#      </tr>\n",
    "# where href=\"/wiki/{ep_title}/transcript\", is the URL\n",
    "    # append URL to url_list "
   ]
  },
  {
   "cell_type": "code",
   "execution_count": null,
   "id": "c000743b",
   "metadata": {},
   "outputs": [],
   "source": []
  },
  {
   "cell_type": "code",
   "execution_count": null,
   "id": "61b01201",
   "metadata": {},
   "outputs": [],
   "source": []
  },
  {
   "cell_type": "markdown",
   "id": "be2905d9",
   "metadata": {},
   "source": [
    "\n",
    "---\n"
   ]
  }
 ],
 "metadata": {
  "kernelspec": {
   "display_name": "Python 3 (ipykernel)",
   "language": "python",
   "name": "python3"
  },
  "language_info": {
   "codemirror_mode": {
    "name": "ipython",
    "version": 3
   },
   "file_extension": ".py",
   "mimetype": "text/x-python",
   "name": "python",
   "nbconvert_exporter": "python",
   "pygments_lexer": "ipython3",
   "version": "3.9.18"
  }
 },
 "nbformat": 4,
 "nbformat_minor": 5
}
