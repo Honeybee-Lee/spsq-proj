{
 "cells": [
  {
   "cell_type": "code",
   "execution_count": 29,
   "id": "2148ee53",
   "metadata": {},
   "outputs": [],
   "source": [
    "# BASE ---------------------------------\n",
    "import numpy as np\n",
    "import pandas as pd\n",
    "from scipy import stats\n",
    "import math\n",
    "import requests\n",
    "from bs4 import BeautifulSoup\n",
    "\n",
    "# VISUALIZATIONS -----------------------\n",
    "import matplotlib.pyplot as plt\n",
    "import seaborn as sns\n",
    "\n",
    "# MODELS -------------------------------\n",
    "\n",
    "\n",
    "# STYLES & CONFIGURATIONS ---------------\n",
    "sns.set_theme(style='darkgrid')\n",
    "import warnings\n",
    "warnings.filterwarnings(\"ignore\")"
   ]
  },
  {
   "cell_type": "code",
   "execution_count": 36,
   "id": "a5797094",
   "metadata": {},
   "outputs": [],
   "source": [
    "URL = \"https://spongebob.fandom.com/wiki/Help_Wanted/transcript\"\n",
    "page = requests.get(URL)\n",
    "\n",
    "soup = BeautifulSoup(page.content, \"html.parser\")\n",
    "print(soup.prettify())"
   ]
  },
  {
   "cell_type": "code",
   "execution_count": 68,
   "id": "dc08e2be",
   "metadata": {},
   "outputs": [],
   "source": [
    "# initialize string that begins at the beginning of every episode\n",
    "begin_str='[The episode '"
   ]
  },
  {
   "cell_type": "code",
   "execution_count": 57,
   "id": "10ceacc2",
   "metadata": {},
   "outputs": [],
   "source": [
    "def get_transcript(url, begin_str, ending_str):\n",
    "    '''\n",
    "    Function to get only the transcript text from the given URL and return the final output as a string\n",
    "    '''\n",
    "    page = requests.get(url)\n",
    "    soup = BeautifulSoup(page.content, \"html.parser\")\n",
    "    soup_sp = \" \".join([a.get_text().strip() for a in soup])\n",
    "    soup_sn = soup_sp.replace('\\n', ' ')\n",
    "    soup_st = soup_sn.replace('\\t', '')\n",
    "    res = soup_st.split(begin_str, 1)\n",
    "    res2 = ''.join(res[1])\n",
    "    end = res2.split(ending_str)[0]\n",
    "    return end"
   ]
  },
  {
   "cell_type": "code",
   "execution_count": 66,
   "id": "891bf392",
   "metadata": {},
   "outputs": [],
   "source": [
    "# get the transcript for episode 1a, \"Help Wanted\"\n",
    "ep1a = get_transcript(url = \"https://spongebob.fandom.com/wiki/Help_Wanted/transcript\",\n",
    "                     begin_str=begin_str,\n",
    "                     ending_str='ending the first episode')"
   ]
  },
  {
   "cell_type": "code",
   "execution_count": 60,
   "id": "7afc415f",
   "metadata": {},
   "outputs": [],
   "source": [
    "# get the transcript for episode 1b, \"Reef Blower\"\n",
    "ep1b = get_transcript(url='https://spongebob.fandom.com/wiki/Reef_Blower/transcript', \n",
    "               begin_str='[The episode ', \n",
    "               ending_str='ending the episode')"
   ]
  },
  {
   "cell_type": "code",
   "execution_count": null,
   "id": "e3923f28",
   "metadata": {},
   "outputs": [],
   "source": []
  },
  {
   "cell_type": "markdown",
   "id": "01f59755",
   "metadata": {},
   "source": [
    "\n",
    "---\n"
   ]
  }
 ],
 "metadata": {
  "kernelspec": {
   "display_name": "Python 3 (ipykernel)",
   "language": "python",
   "name": "python3"
  },
  "language_info": {
   "codemirror_mode": {
    "name": "ipython",
    "version": 3
   },
   "file_extension": ".py",
   "mimetype": "text/x-python",
   "name": "python",
   "nbconvert_exporter": "python",
   "pygments_lexer": "ipython3",
   "version": "3.9.18"
  }
 },
 "nbformat": 4,
 "nbformat_minor": 5
}
